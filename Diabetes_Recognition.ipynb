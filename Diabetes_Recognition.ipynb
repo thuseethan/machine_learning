{
  "nbformat": 4,
  "nbformat_minor": 0,
  "metadata": {
    "colab": {
      "provenance": [],
      "authorship_tag": "ABX9TyMiavJ1fzuFzwqfvEvYsrzU",
      "include_colab_link": true
    },
    "kernelspec": {
      "name": "python3",
      "display_name": "Python 3"
    },
    "language_info": {
      "name": "python"
    }
  },
  "cells": [
    {
      "cell_type": "markdown",
      "metadata": {
        "id": "view-in-github",
        "colab_type": "text"
      },
      "source": [
        "<a href=\"https://colab.research.google.com/github/thuseethan/machine_learning/blob/main/Diabetes_Recognition.ipynb\" target=\"_parent\"><img src=\"https://colab.research.google.com/assets/colab-badge.svg\" alt=\"Open In Colab\"/></a>"
      ]
    },
    {
      "cell_type": "markdown",
      "source": [
        "# **Diabetes Diagnosis using Pima Indians Diabetes Database**"
      ],
      "metadata": {
        "id": "q59bClLrxCiH"
      }
    },
    {
      "cell_type": "markdown",
      "source": [
        "Within this notebook lies a comprehensive Python implementation designed to detect Diabetes within individuals, leveraging the rich dataset offered by the Pima Indians Diabetes Database available on Kaggle (https://www.kaggle.com/datasets/uciml/pima-indians-diabetes-database)."
      ],
      "metadata": {
        "id": "6vCzqbxrv5o5"
      }
    },
    {
      "cell_type": "markdown",
      "source": [
        "*The copyright for this code belongs to Thuseethan Selvarajah (thuseethan@gmail.com) © 22 Dec 2023*"
      ],
      "metadata": {
        "id": "iCIa2UUKwMQw"
      }
    },
    {
      "cell_type": "markdown",
      "source": [
        "**Importing all the necessary packages and libraries.**"
      ],
      "metadata": {
        "id": "aw9oL7bxw60B"
      }
    },
    {
      "cell_type": "code",
      "source": [
        "import warnings\n",
        "warnings.filterwarnings(\"ignore\")\n",
        "\n",
        "import pandas as pd\n",
        "from sklearn.model_selection import train_test_split\n",
        "from sklearn.preprocessing import StandardScaler\n",
        "\n",
        "from sklearn.dummy import DummyClassifier\n",
        "from sklearn.linear_model import LogisticRegression\n",
        "from sklearn.neighbors import KNeighborsClassifier\n",
        "from sklearn.svm import SVC\n",
        "\n",
        "from sklearn.metrics import accuracy_score\n",
        "from sklearn.metrics import classification_report"
      ],
      "metadata": {
        "id": "mfZe0wNJwDFl"
      },
      "execution_count": 46,
      "outputs": []
    },
    {
      "cell_type": "markdown",
      "source": [
        "**Here, (1) Load the dataset and define the data [X] and target [y] are performed.**\n",
        "\n",
        "Before loading the diabetes.csv data, do the followings:\n",
        "1.   Access the Pima Indians Diabetes Database on Kaggle through this link: https://www.kaggle.com/datasets/uciml/pima-indians-diabetes-database\n",
        "2.   Download the dataset available at the provided link.\n",
        "1.   Rename the downloaded dataset file to \"diabetes.csv.\"\n",
        "2.   Upload the \"diabetes.csv\" file to the session storage in Colab.\n",
        "1.   Execute the below script designed to load the uploaded \"diabetes.csv\" file into the Colab environment.\n",
        "\n",
        "\n",
        "\n",
        "\n",
        "\n"
      ],
      "metadata": {
        "id": "Z3ixbWZOz9VV"
      }
    },
    {
      "cell_type": "code",
      "source": [
        "diabetes_data = pd.read_csv('diabetes.csv')\n",
        "features = ['Pregnancies', 'Insulin', 'BMI', 'Age','Glucose','BloodPressure','DiabetesPedigreeFunction']\n",
        "X = diabetes_data[features]\n",
        "y = diabetes_data.Outcome"
      ],
      "metadata": {
        "id": "CQAgVKBtyC2M"
      },
      "execution_count": 2,
      "outputs": []
    },
    {
      "cell_type": "code",
      "source": [
        "# View first five rows in the data.\n",
        "X.head(5)"
      ],
      "metadata": {
        "colab": {
          "base_uri": "https://localhost:8080/",
          "height": 206
        },
        "id": "6HhtrErl20IT",
        "outputId": "7e830d96-496a-4503-acd8-8e5feb6419c3"
      },
      "execution_count": 3,
      "outputs": [
        {
          "output_type": "execute_result",
          "data": {
            "text/plain": [
              "   Pregnancies  Insulin   BMI  Age  Glucose  BloodPressure  \\\n",
              "0            6        0  33.6   50      148             72   \n",
              "1            1        0  26.6   31       85             66   \n",
              "2            8        0  23.3   32      183             64   \n",
              "3            1       94  28.1   21       89             66   \n",
              "4            0      168  43.1   33      137             40   \n",
              "\n",
              "   DiabetesPedigreeFunction  \n",
              "0                     0.627  \n",
              "1                     0.351  \n",
              "2                     0.672  \n",
              "3                     0.167  \n",
              "4                     2.288  "
            ],
            "text/html": [
              "\n",
              "  <div id=\"df-491cfb6e-621e-4d3a-8577-b9548416be86\" class=\"colab-df-container\">\n",
              "    <div>\n",
              "<style scoped>\n",
              "    .dataframe tbody tr th:only-of-type {\n",
              "        vertical-align: middle;\n",
              "    }\n",
              "\n",
              "    .dataframe tbody tr th {\n",
              "        vertical-align: top;\n",
              "    }\n",
              "\n",
              "    .dataframe thead th {\n",
              "        text-align: right;\n",
              "    }\n",
              "</style>\n",
              "<table border=\"1\" class=\"dataframe\">\n",
              "  <thead>\n",
              "    <tr style=\"text-align: right;\">\n",
              "      <th></th>\n",
              "      <th>Pregnancies</th>\n",
              "      <th>Insulin</th>\n",
              "      <th>BMI</th>\n",
              "      <th>Age</th>\n",
              "      <th>Glucose</th>\n",
              "      <th>BloodPressure</th>\n",
              "      <th>DiabetesPedigreeFunction</th>\n",
              "    </tr>\n",
              "  </thead>\n",
              "  <tbody>\n",
              "    <tr>\n",
              "      <th>0</th>\n",
              "      <td>6</td>\n",
              "      <td>0</td>\n",
              "      <td>33.6</td>\n",
              "      <td>50</td>\n",
              "      <td>148</td>\n",
              "      <td>72</td>\n",
              "      <td>0.627</td>\n",
              "    </tr>\n",
              "    <tr>\n",
              "      <th>1</th>\n",
              "      <td>1</td>\n",
              "      <td>0</td>\n",
              "      <td>26.6</td>\n",
              "      <td>31</td>\n",
              "      <td>85</td>\n",
              "      <td>66</td>\n",
              "      <td>0.351</td>\n",
              "    </tr>\n",
              "    <tr>\n",
              "      <th>2</th>\n",
              "      <td>8</td>\n",
              "      <td>0</td>\n",
              "      <td>23.3</td>\n",
              "      <td>32</td>\n",
              "      <td>183</td>\n",
              "      <td>64</td>\n",
              "      <td>0.672</td>\n",
              "    </tr>\n",
              "    <tr>\n",
              "      <th>3</th>\n",
              "      <td>1</td>\n",
              "      <td>94</td>\n",
              "      <td>28.1</td>\n",
              "      <td>21</td>\n",
              "      <td>89</td>\n",
              "      <td>66</td>\n",
              "      <td>0.167</td>\n",
              "    </tr>\n",
              "    <tr>\n",
              "      <th>4</th>\n",
              "      <td>0</td>\n",
              "      <td>168</td>\n",
              "      <td>43.1</td>\n",
              "      <td>33</td>\n",
              "      <td>137</td>\n",
              "      <td>40</td>\n",
              "      <td>2.288</td>\n",
              "    </tr>\n",
              "  </tbody>\n",
              "</table>\n",
              "</div>\n",
              "    <div class=\"colab-df-buttons\">\n",
              "\n",
              "  <div class=\"colab-df-container\">\n",
              "    <button class=\"colab-df-convert\" onclick=\"convertToInteractive('df-491cfb6e-621e-4d3a-8577-b9548416be86')\"\n",
              "            title=\"Convert this dataframe to an interactive table.\"\n",
              "            style=\"display:none;\">\n",
              "\n",
              "  <svg xmlns=\"http://www.w3.org/2000/svg\" height=\"24px\" viewBox=\"0 -960 960 960\">\n",
              "    <path d=\"M120-120v-720h720v720H120Zm60-500h600v-160H180v160Zm220 220h160v-160H400v160Zm0 220h160v-160H400v160ZM180-400h160v-160H180v160Zm440 0h160v-160H620v160ZM180-180h160v-160H180v160Zm440 0h160v-160H620v160Z\"/>\n",
              "  </svg>\n",
              "    </button>\n",
              "\n",
              "  <style>\n",
              "    .colab-df-container {\n",
              "      display:flex;\n",
              "      gap: 12px;\n",
              "    }\n",
              "\n",
              "    .colab-df-convert {\n",
              "      background-color: #E8F0FE;\n",
              "      border: none;\n",
              "      border-radius: 50%;\n",
              "      cursor: pointer;\n",
              "      display: none;\n",
              "      fill: #1967D2;\n",
              "      height: 32px;\n",
              "      padding: 0 0 0 0;\n",
              "      width: 32px;\n",
              "    }\n",
              "\n",
              "    .colab-df-convert:hover {\n",
              "      background-color: #E2EBFA;\n",
              "      box-shadow: 0px 1px 2px rgba(60, 64, 67, 0.3), 0px 1px 3px 1px rgba(60, 64, 67, 0.15);\n",
              "      fill: #174EA6;\n",
              "    }\n",
              "\n",
              "    .colab-df-buttons div {\n",
              "      margin-bottom: 4px;\n",
              "    }\n",
              "\n",
              "    [theme=dark] .colab-df-convert {\n",
              "      background-color: #3B4455;\n",
              "      fill: #D2E3FC;\n",
              "    }\n",
              "\n",
              "    [theme=dark] .colab-df-convert:hover {\n",
              "      background-color: #434B5C;\n",
              "      box-shadow: 0px 1px 3px 1px rgba(0, 0, 0, 0.15);\n",
              "      filter: drop-shadow(0px 1px 2px rgba(0, 0, 0, 0.3));\n",
              "      fill: #FFFFFF;\n",
              "    }\n",
              "  </style>\n",
              "\n",
              "    <script>\n",
              "      const buttonEl =\n",
              "        document.querySelector('#df-491cfb6e-621e-4d3a-8577-b9548416be86 button.colab-df-convert');\n",
              "      buttonEl.style.display =\n",
              "        google.colab.kernel.accessAllowed ? 'block' : 'none';\n",
              "\n",
              "      async function convertToInteractive(key) {\n",
              "        const element = document.querySelector('#df-491cfb6e-621e-4d3a-8577-b9548416be86');\n",
              "        const dataTable =\n",
              "          await google.colab.kernel.invokeFunction('convertToInteractive',\n",
              "                                                    [key], {});\n",
              "        if (!dataTable) return;\n",
              "\n",
              "        const docLinkHtml = 'Like what you see? Visit the ' +\n",
              "          '<a target=\"_blank\" href=https://colab.research.google.com/notebooks/data_table.ipynb>data table notebook</a>'\n",
              "          + ' to learn more about interactive tables.';\n",
              "        element.innerHTML = '';\n",
              "        dataTable['output_type'] = 'display_data';\n",
              "        await google.colab.output.renderOutput(dataTable, element);\n",
              "        const docLink = document.createElement('div');\n",
              "        docLink.innerHTML = docLinkHtml;\n",
              "        element.appendChild(docLink);\n",
              "      }\n",
              "    </script>\n",
              "  </div>\n",
              "\n",
              "\n",
              "<div id=\"df-8c554c83-c6e7-4a2b-aa7f-ad12694ddbf5\">\n",
              "  <button class=\"colab-df-quickchart\" onclick=\"quickchart('df-8c554c83-c6e7-4a2b-aa7f-ad12694ddbf5')\"\n",
              "            title=\"Suggest charts\"\n",
              "            style=\"display:none;\">\n",
              "\n",
              "<svg xmlns=\"http://www.w3.org/2000/svg\" height=\"24px\"viewBox=\"0 0 24 24\"\n",
              "     width=\"24px\">\n",
              "    <g>\n",
              "        <path d=\"M19 3H5c-1.1 0-2 .9-2 2v14c0 1.1.9 2 2 2h14c1.1 0 2-.9 2-2V5c0-1.1-.9-2-2-2zM9 17H7v-7h2v7zm4 0h-2V7h2v10zm4 0h-2v-4h2v4z\"/>\n",
              "    </g>\n",
              "</svg>\n",
              "  </button>\n",
              "\n",
              "<style>\n",
              "  .colab-df-quickchart {\n",
              "      --bg-color: #E8F0FE;\n",
              "      --fill-color: #1967D2;\n",
              "      --hover-bg-color: #E2EBFA;\n",
              "      --hover-fill-color: #174EA6;\n",
              "      --disabled-fill-color: #AAA;\n",
              "      --disabled-bg-color: #DDD;\n",
              "  }\n",
              "\n",
              "  [theme=dark] .colab-df-quickchart {\n",
              "      --bg-color: #3B4455;\n",
              "      --fill-color: #D2E3FC;\n",
              "      --hover-bg-color: #434B5C;\n",
              "      --hover-fill-color: #FFFFFF;\n",
              "      --disabled-bg-color: #3B4455;\n",
              "      --disabled-fill-color: #666;\n",
              "  }\n",
              "\n",
              "  .colab-df-quickchart {\n",
              "    background-color: var(--bg-color);\n",
              "    border: none;\n",
              "    border-radius: 50%;\n",
              "    cursor: pointer;\n",
              "    display: none;\n",
              "    fill: var(--fill-color);\n",
              "    height: 32px;\n",
              "    padding: 0;\n",
              "    width: 32px;\n",
              "  }\n",
              "\n",
              "  .colab-df-quickchart:hover {\n",
              "    background-color: var(--hover-bg-color);\n",
              "    box-shadow: 0 1px 2px rgba(60, 64, 67, 0.3), 0 1px 3px 1px rgba(60, 64, 67, 0.15);\n",
              "    fill: var(--button-hover-fill-color);\n",
              "  }\n",
              "\n",
              "  .colab-df-quickchart-complete:disabled,\n",
              "  .colab-df-quickchart-complete:disabled:hover {\n",
              "    background-color: var(--disabled-bg-color);\n",
              "    fill: var(--disabled-fill-color);\n",
              "    box-shadow: none;\n",
              "  }\n",
              "\n",
              "  .colab-df-spinner {\n",
              "    border: 2px solid var(--fill-color);\n",
              "    border-color: transparent;\n",
              "    border-bottom-color: var(--fill-color);\n",
              "    animation:\n",
              "      spin 1s steps(1) infinite;\n",
              "  }\n",
              "\n",
              "  @keyframes spin {\n",
              "    0% {\n",
              "      border-color: transparent;\n",
              "      border-bottom-color: var(--fill-color);\n",
              "      border-left-color: var(--fill-color);\n",
              "    }\n",
              "    20% {\n",
              "      border-color: transparent;\n",
              "      border-left-color: var(--fill-color);\n",
              "      border-top-color: var(--fill-color);\n",
              "    }\n",
              "    30% {\n",
              "      border-color: transparent;\n",
              "      border-left-color: var(--fill-color);\n",
              "      border-top-color: var(--fill-color);\n",
              "      border-right-color: var(--fill-color);\n",
              "    }\n",
              "    40% {\n",
              "      border-color: transparent;\n",
              "      border-right-color: var(--fill-color);\n",
              "      border-top-color: var(--fill-color);\n",
              "    }\n",
              "    60% {\n",
              "      border-color: transparent;\n",
              "      border-right-color: var(--fill-color);\n",
              "    }\n",
              "    80% {\n",
              "      border-color: transparent;\n",
              "      border-right-color: var(--fill-color);\n",
              "      border-bottom-color: var(--fill-color);\n",
              "    }\n",
              "    90% {\n",
              "      border-color: transparent;\n",
              "      border-bottom-color: var(--fill-color);\n",
              "    }\n",
              "  }\n",
              "</style>\n",
              "\n",
              "  <script>\n",
              "    async function quickchart(key) {\n",
              "      const quickchartButtonEl =\n",
              "        document.querySelector('#' + key + ' button');\n",
              "      quickchartButtonEl.disabled = true;  // To prevent multiple clicks.\n",
              "      quickchartButtonEl.classList.add('colab-df-spinner');\n",
              "      try {\n",
              "        const charts = await google.colab.kernel.invokeFunction(\n",
              "            'suggestCharts', [key], {});\n",
              "      } catch (error) {\n",
              "        console.error('Error during call to suggestCharts:', error);\n",
              "      }\n",
              "      quickchartButtonEl.classList.remove('colab-df-spinner');\n",
              "      quickchartButtonEl.classList.add('colab-df-quickchart-complete');\n",
              "    }\n",
              "    (() => {\n",
              "      let quickchartButtonEl =\n",
              "        document.querySelector('#df-8c554c83-c6e7-4a2b-aa7f-ad12694ddbf5 button');\n",
              "      quickchartButtonEl.style.display =\n",
              "        google.colab.kernel.accessAllowed ? 'block' : 'none';\n",
              "    })();\n",
              "  </script>\n",
              "</div>\n",
              "\n",
              "    </div>\n",
              "  </div>\n"
            ]
          },
          "metadata": {},
          "execution_count": 3
        }
      ]
    },
    {
      "cell_type": "code",
      "source": [
        "# View first five rows in the target column.\n",
        "y.head(5)"
      ],
      "metadata": {
        "colab": {
          "base_uri": "https://localhost:8080/"
        },
        "id": "nFuNYGWE274Y",
        "outputId": "478fca11-d971-41e3-fbdf-76ae2789dc30"
      },
      "execution_count": 4,
      "outputs": [
        {
          "output_type": "execute_result",
          "data": {
            "text/plain": [
              "0    1\n",
              "1    0\n",
              "2    1\n",
              "3    0\n",
              "4    1\n",
              "Name: Outcome, dtype: int64"
            ]
          },
          "metadata": {},
          "execution_count": 4
        }
      ]
    },
    {
      "cell_type": "markdown",
      "source": [
        "**Split the dataset into train and test sets.**\n",
        "*   The Python code segments a dataset into distinct portions for training and testing.\n",
        "*   'X' represents the input data, while 'y' signifies the corresponding labels.\n",
        "*   It creates 'X_train' for training data and 'X_test' for testing data.\n",
        "*   'y_train' stores the labels for the training set, and 'y_test' holds the labels for the testing set.\n",
        "*   With 'test_size=0.3', 30% of the data is allocated for testing.\n",
        "*   Setting 'random_state=0' ensures reproducibility of the split when the code runs multiple times."
      ],
      "metadata": {
        "id": "0C-x84kQ499Q"
      }
    },
    {
      "cell_type": "code",
      "source": [
        "# Split the dataset into training and testing sets\n",
        "X_train, X_test, y_train, y_test = train_test_split(X, y, test_size=0.3, random_state = 0)"
      ],
      "metadata": {
        "id": "_wycVOP03r4F"
      },
      "execution_count": 11,
      "outputs": []
    },
    {
      "cell_type": "markdown",
      "source": [
        "**Preprocessing [Feature Scaling]**\n",
        "1.   *Understanding Euclidean Distance:* Many machine learning algorithms utilize the Euclidean distance between data points in their computations.\n",
        "2.   *Magnitude Influence:* High-magnitude features exert a stronger impact on distance calculations than lower-magnitude ones.\n",
        "1.   *Addressing Disproportionate Impact:* To counter this, employ feature standardization or Z-score normalization techniques.\n",
        "2.   *Using \"StandardScaler\":* Implement normalization using the \"StandardScaler\" class available in the \"sklearn.preprocessing\" module.\n",
        "1.   *Equal Contribution:* Normalization ensures that all features contribute equally to distance calculations, enhancing algorithm performance across diverse feature magnitudes.\n",
        "\n",
        "\n",
        "\n",
        "\n",
        "\n",
        "\n",
        "\n",
        "\n",
        "\n"
      ],
      "metadata": {
        "id": "LHv6AdVhy66V"
      }
    },
    {
      "cell_type": "code",
      "source": [
        "std_scl = StandardScaler()\n",
        "\n",
        "# Apply the standard scaler normalization to both train and test set separately.\n",
        "X_train = std_scl.fit_transform(X_train)\n",
        "X_test = std_scl.fit_transform(X_test)"
      ],
      "metadata": {
        "id": "D4EnfHYYyzn3"
      },
      "execution_count": 5,
      "outputs": []
    },
    {
      "cell_type": "markdown",
      "source": [
        "**Train and test multiple machine learning models**"
      ],
      "metadata": {
        "id": "-ylm2BFt75Bx"
      }
    },
    {
      "cell_type": "markdown",
      "source": [
        "**Dummy classifier**\n",
        "*   The Python code initializes a baseline model using the 'DummyClassifier' from scikit-learn.\n",
        "*   It employs a 'stratified' strategy, meaning it generates predictions based on the training set's class distribution, and 'random_state=42' ensures reproducibility by fixing the random seed to 42.\n",
        "\n"
      ],
      "metadata": {
        "id": "v0gzAavD9k8e"
      }
    },
    {
      "cell_type": "code",
      "source": [
        "# A baseline dummy classifier\n",
        "baseline = DummyClassifier(strategy = 'stratified', random_state = 42)\n",
        "baseline.fit(X_train, y_train)\n",
        "y_pred = baseline.predict(X_test)\n",
        "\n",
        "\n",
        "target_names = ['Diabetic', 'Nondiabetic']\n",
        "print(classification_report(y_test, y_pred, target_names=target_names))"
      ],
      "metadata": {
        "colab": {
          "base_uri": "https://localhost:8080/"
        },
        "id": "sB4XnhQ973T1",
        "outputId": "8cc1c271-4661-4aac-d8ab-1c75214eaf5b"
      },
      "execution_count": 31,
      "outputs": [
        {
          "output_type": "stream",
          "name": "stdout",
          "text": [
            "              precision    recall  f1-score   support\n",
            "\n",
            "    Diabetic       0.65      0.67      0.66       149\n",
            " Nondiabetic       0.36      0.33      0.34        82\n",
            "\n",
            "    accuracy                           0.55       231\n",
            "   macro avg       0.50      0.50      0.50       231\n",
            "weighted avg       0.54      0.55      0.55       231\n",
            "\n"
          ]
        }
      ]
    },
    {
      "cell_type": "markdown",
      "source": [
        "**Logistic regression model**\n",
        "*   The Python code creates a logistic regression model using scikit-learn's 'LogisticRegression.'\n",
        "*   It uses multiple solvers to optimize the model's parameters and sets the maximum number of iterations for convergence to 1000.\n",
        "*   The solver with the best accuracy is selected.\n",
        "*   The classification report for the best logistic regression model (solver) is presented.\n",
        "\n",
        "\n",
        "\n",
        "\n",
        "\n"
      ],
      "metadata": {
        "id": "SrxnzmCG_H8G"
      }
    },
    {
      "cell_type": "code",
      "source": [
        "# Logistic Regression with different solvers\n",
        "solvers = ['liblinear', 'lbfgs', 'newton-cg', 'sag', 'saga']\n",
        "best_accuracy = 0\n",
        "best_solver = None\n",
        "best_model = None\n",
        "\n",
        "reports = {}\n",
        "\n",
        "for solver in solvers:\n",
        "    log_reg = LogisticRegression(solver=solver, max_iter=1000)\n",
        "    log_reg.fit(X_train, y_train)\n",
        "    y_pred = log_reg.predict(X_test)\n",
        "    accuracy = accuracy_score(y_test, y_pred)\n",
        "    reports[solver] = classification_report(y_test, y_pred, output_dict=True)\n",
        "\n",
        "    if accuracy > best_accuracy:\n",
        "        best_accuracy = accuracy\n",
        "        best_solver = solver\n",
        "        best_model = log_reg\n",
        "\n",
        "print(f\"Best Solver: {best_solver}, Accuracy: {best_accuracy}\")\n",
        "print(\"Classification Report for Best Model-Solver Combination:\")\n",
        "y_pred = best_model.predict(X_test)\n",
        "print(classification_report(y_test, y_pred))"
      ],
      "metadata": {
        "colab": {
          "base_uri": "https://localhost:8080/"
        },
        "id": "3N9lg6svAKoI",
        "outputId": "824730b5-3fb9-4def-86c2-a42b39f0452f"
      },
      "execution_count": 38,
      "outputs": [
        {
          "output_type": "stream",
          "name": "stdout",
          "text": [
            "Best Solver: liblinear, Accuracy: 0.8051948051948052\n",
            "Classification Report for Best Model-Solver Combination:\n",
            "              precision    recall  f1-score   support\n",
            "\n",
            "           0       0.81      0.91      0.86       149\n",
            "           1       0.79      0.61      0.69        82\n",
            "\n",
            "    accuracy                           0.81       231\n",
            "   macro avg       0.80      0.76      0.77       231\n",
            "weighted avg       0.80      0.81      0.80       231\n",
            "\n"
          ]
        }
      ]
    },
    {
      "cell_type": "markdown",
      "source": [
        "**K-Nearest neighbour model**\n",
        "*   Initializes a k-nearest neighbors classifier using scikit-learn's 'KNeighborsClassifier'.\n",
        "*   Sets the parameter 'n_neighbors' to the value 'k', which determines the number of neighboring data points used to make predictions in the k-nearest neighbors algorithm."
      ],
      "metadata": {
        "id": "h1_LMU1LEEWr"
      }
    },
    {
      "cell_type": "code",
      "source": [
        "# K-Nearest neighbour model with different number of neighbours\n",
        "neighbours = [3, 4, 5, 6, 7, 8]\n",
        "best_accuracy = 0\n",
        "best_neighbours = None\n",
        "best_model = None\n",
        "\n",
        "reports = {}\n",
        "\n",
        "for k in neighbours:\n",
        "    k_nei = KNeighborsClassifier(n_neighbors = k)\n",
        "    k_nei.fit(X_train, y_train)\n",
        "    y_pred = k_nei.predict(X_test)\n",
        "    accuracy = accuracy_score(y_test, y_pred)\n",
        "    reports[k] = classification_report(y_test, y_pred, output_dict=True)\n",
        "\n",
        "    if accuracy > best_accuracy:\n",
        "        best_accuracy = accuracy\n",
        "        best_neighbours = k\n",
        "        best_model = k_nei\n",
        "\n",
        "print(f\"Best Neighbours: {best_neighbours}, Accuracy: {best_accuracy}\")\n",
        "print(\"Classification Report for Best Model-Neighbour Combination:\")\n",
        "y_pred = best_model.predict(X_test)\n",
        "print(classification_report(y_test, y_pred))"
      ],
      "metadata": {
        "colab": {
          "base_uri": "https://localhost:8080/"
        },
        "id": "ctxxkKdBDw02",
        "outputId": "941ee30d-b1d4-4caa-9e8b-443f50012a6c"
      },
      "execution_count": 47,
      "outputs": [
        {
          "output_type": "stream",
          "name": "stdout",
          "text": [
            "Best Neighbours: 7, Accuracy: 0.7835497835497836\n",
            "Classification Report for Best Model-Neighbour Combination:\n",
            "              precision    recall  f1-score   support\n",
            "\n",
            "           0       0.81      0.87      0.84       149\n",
            "           1       0.72      0.63      0.68        82\n",
            "\n",
            "    accuracy                           0.78       231\n",
            "   macro avg       0.77      0.75      0.76       231\n",
            "weighted avg       0.78      0.78      0.78       231\n",
            "\n"
          ]
        }
      ]
    },
    {
      "cell_type": "markdown",
      "source": [
        "**Support vector machine model**\n",
        "*   Creates a SVM model using scikit-learn's SVC function.\n",
        "*   It sets the kernel type for the SVM as specified by the variable \"krl\".\n",
        "*   Diferent kernels are used as given in \"kernels\" list\n",
        "\n",
        "\n",
        "\n"
      ],
      "metadata": {
        "id": "yN5q-XexFp_5"
      }
    },
    {
      "cell_type": "code",
      "source": [
        "# Support vector machine model with different kernels\n",
        "kernels = ['linear', 'poly', 'rbf', 'sigmoid']\n",
        "best_accuracy = 0\n",
        "best_kernel = None\n",
        "best_model = None\n",
        "\n",
        "reports = {}\n",
        "\n",
        "for krl in kernels:\n",
        "    svm_mdl = SVC(kernel=krl)\n",
        "    svm_mdl.fit(X_train, y_train)\n",
        "    y_pred = svm_mdl.predict(X_test)\n",
        "    accuracy = accuracy_score(y_test, y_pred)\n",
        "    reports[krl] = classification_report(y_test, y_pred, output_dict=True)\n",
        "\n",
        "    if accuracy > best_accuracy:\n",
        "        best_accuracy = accuracy\n",
        "        best_kernel = krl\n",
        "        best_model = svm_mdl\n",
        "\n",
        "print(f\"Best Kernel: {best_kernel}, Accuracy: {best_accuracy}\")\n",
        "print(\"Classification Report for Best Model-Kernel Combination:\")\n",
        "y_pred = best_model.predict(X_test)\n",
        "print(classification_report(y_test, y_pred))"
      ],
      "metadata": {
        "colab": {
          "base_uri": "https://localhost:8080/"
        },
        "id": "O4wxvDR1FowG",
        "outputId": "b57c31c9-8ae4-4d82-977b-8bd4455d08a5"
      },
      "execution_count": 49,
      "outputs": [
        {
          "output_type": "stream",
          "name": "stdout",
          "text": [
            "Best Kernel: linear, Accuracy: 0.8095238095238095\n",
            "Classification Report for Best Model-Kernel Combination:\n",
            "              precision    recall  f1-score   support\n",
            "\n",
            "           0       0.81      0.92      0.86       149\n",
            "           1       0.81      0.61      0.69        82\n",
            "\n",
            "    accuracy                           0.81       231\n",
            "   macro avg       0.81      0.76      0.78       231\n",
            "weighted avg       0.81      0.81      0.80       231\n",
            "\n"
          ]
        }
      ]
    }
  ]
}